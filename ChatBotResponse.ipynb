{
 "cells": [
  {
   "cell_type": "code",
   "execution_count": 71,
   "metadata": {},
   "outputs": [
    {
     "name": "stdout",
     "output_type": "stream",
     "text": [
      "[nltk_data] Downloading package punkt to\n",
      "[nltk_data]     C:\\Users\\vivek\\AppData\\Roaming\\nltk_data...\n",
      "[nltk_data]   Package punkt is already up-to-date!\n",
      "[nltk_data] Downloading package wordnet to\n",
      "[nltk_data]     C:\\Users\\vivek\\AppData\\Roaming\\nltk_data...\n",
      "[nltk_data]   Package wordnet is already up-to-date!\n"
     ]
    }
   ],
   "source": [
    "# things we need for NLP\n",
    "import nltk\n",
    "nltk.download('punkt')\n",
    "from nltk.stem.lancaster import LancasterStemmer\n",
    "from nltk.stem import WordNetLemmatizer\n",
    "nltk.download('wordnet')\n",
    "stemmer = LancasterStemmer()\n",
    "lemmatizer = WordNetLemmatizer()\n",
    "\n",
    "import numpy as np\n",
    "import random\n",
    "from tensorflow import keras\n",
    "from keras.models import load_model"
   ]
  },
  {
   "cell_type": "code",
   "execution_count": 72,
   "metadata": {},
   "outputs": [],
   "source": [
    "# import our chat-bot intents file\n",
    "import json\n",
    "with open('intents.json') as json_data:\n",
    "    intents = json.load(json_data)"
   ]
  },
  {
   "cell_type": "code",
   "execution_count": 73,
   "metadata": {},
   "outputs": [
    {
     "name": "stdout",
     "output_type": "stream",
     "text": [
      "668 documents\n",
      "49 classes ['CourseB.Tech', 'CourseB.TechInt', 'CourseM.Tech', 'CourseMBATech', 'CourseMCA', 'CoursePGDM', 'CoursePhD', 'accreditation', 'affirmative', 'btechandmbatechadmissions', 'generalfeestructure', 'goodbye', 'greeting', 'hours', 'integratedprograms', 'noanswer', 'offensivewords', 'opentoday', 'otherprogramsadmissions', 'postgradprograms', 'streamCivil', 'streamComputer', 'streamDataScience', 'streamElectrical', 'streamElectronicsandTelecommunications', 'streamIndustrialAutomation', 'streamInformationTechnology', 'streamMechanical', 'streamMechatronics', 'streamartificialintelligence', 'thanks', 'undergradprograms', 'whyArtificialIntelligence', 'whyB.Tech', 'whyB.TechIntegrated', 'whyCS', 'whyCivil', 'whyDataScience', 'whyEXTC', 'whyElectrical', 'whyIT', 'whyIndustrialAutomation', 'whyM.Tech', 'whyMBATech', 'whyMCA', 'whyMechanical', 'whyMechatronics', 'whyPGDM', 'whyPhD']\n",
      "203 unique lemmatized words ['!', \"'s\", '.', 'a', 'about', 'acceptance', 'accreditation', 'admin', 'admission', 'admitted', 'advantage', 'ai', 'aicte', 'all', 'alright', 'am', 'an', 'and', 'any', 'anyone', 'approved', 'are', 'artificial', 'at', 'automa', 'automation', 'available', 'b.', 'b.tech', 'benefit', 'bot', 'btech', 'bubye', 'by', 'bye', 'c', 'campus', 'can', 'career', 'certification', 'charge', 'charged', 'choose', 'civil', 'college', 'computer', 'confused', 'cool', 'course', 'd', 'data', 'day', 'degree', 'detail', 'different', 'do', 'doctor', 'doe', 'doing', 'dual', 'dumb', 'electrical', 'electronics', 'electronicsandtelecommunication', 'electronicsandtelecommunications', 'engineer', 'engineering', 'extc', 'extcengineering', 'fee', 'field', 'fine', 'for', 'get', 'give', 'go', 'good', 'goodbye', 'got', 'graduate', 'graduation', 'ha', 'have', 'hello', 'helpful', 'hey', 'hi', 'hour', 'how', 'i', 'idiot', 'if', 'in', 'ind', 'industrial', 'industry', 'info', 'information', 'int', 'intake', 'integrated', 'intelligence', 'international', 'into', 'is', 'it', 'join', 'know', 'later', 'lost', 'lot', 'm.tech', 'mba', 'mbatech', 'mca', 'me', 'mechanical', 'mechatronic', 'mechatronics', 'meeting', 'more', 'mpstme', 'mtech', 'much', 'mumbai', 'my', 'nice', 'nmims', 'not', 'of', 'offer', 'offered', 'office', 'okay', 'open', 'opt', 'pg', 'pgdm', 'phd', 'philosophy', 'post', 'postgrad', 'postgraduate', 'prerequisite', 'procedure', 'process', 'program', 'pursue', 'pursuing', 'qualification', 'quality', 'reason', 'received', 'required', 'science', 'seat', 'see', 'set', 'shirpur', 'should', 'skill', 'so', 'some', 'stream', 'strength', 'structure', 'stupid', 'sup', 'taking', 'tata', 'tech', 'technology', 'telecommunication', 'tell', 'thank', 'thanks', 'that', 'the', 'there', 'this', 'time', 'timing', 'to', 'today', 'ton', 'tuition', 'ty', 'tysm', 'ug', 'undergrad', 'undergraduate', 'up', 'useless', 'want', 'what', 'whats', 'whatsup', 'when', 'which', 'why', 'yes', 'you', 'your']\n"
     ]
    }
   ],
   "source": [
    "words = []\n",
    "classes = []\n",
    "documents = []\n",
    "ignore_words = ['?']\n",
    "# loop through each sentence in our intents patterns\n",
    "for intent in intents['intents']:\n",
    "    for pattern in intent['patterns']:\n",
    "        # tokenize each word in the sentence\n",
    "        w = nltk.word_tokenize(pattern)\n",
    "        # add to our words list\n",
    "        words.extend(w)\n",
    "        # add to documents in our corpus\n",
    "        documents.append((w, intent['tag']))\n",
    "        # add to our classes list\n",
    "        if intent['tag'] not in classes:\n",
    "            classes.append(intent['tag'])\n",
    "\n",
    "# stem and lower each word and remove duplicates\n",
    "words = [lemmatizer.lemmatize(w.lower()) for w in words if w not in ignore_words]\n",
    "words = sorted(list(set(words)))\n",
    "\n",
    "# remove duplicates\n",
    "classes = sorted(list(set(classes)))\n",
    "\n",
    "print (len(documents), \"documents\")\n",
    "print (len(classes), \"classes\", classes)\n",
    "print (len(words), \"unique lemmatized words\", words)"
   ]
  },
  {
   "cell_type": "code",
   "execution_count": 74,
   "metadata": {},
   "outputs": [],
   "source": [
    "model = load_model('model_ChatBot.h5')"
   ]
  },
  {
   "cell_type": "code",
   "execution_count": 75,
   "metadata": {},
   "outputs": [],
   "source": [
    "import re\n",
    "def clean_up_sentence(sentence):\n",
    "    # tokenize the pattern\n",
    "    sentence_words = nltk.word_tokenize(sentence)\n",
    "    \n",
    "    ''''\n",
    "    #converting streams to a unique form\n",
    "    sentence_words = (str(sentence_words).lower())\n",
    "    sentence_words = re.sub(r\"i'm\", \"i am\", sentence_words)\n",
    "    sentence_words = re.sub(r\"he's\", \"he is\", sentence_words)\n",
    "    sentence_words = re.sub(r\"she's\", \"she is\", sentence_words)\n",
    "    sentence_words = re.sub(r\"that's\", \"that is\", sentence_words)\n",
    "    sentence_words = re.sub(r\"what's\", \"what is\", sentence_words)\n",
    "    sentence_words = re.sub(r\"where's\", \"where is\", sentence_words)\n",
    "    sentence_words = re.sub(r\"how's\", \"how is\", sentence_words)\n",
    "    sentence_words = re.sub(r\"\\'ll\", \" will\", sentence_words)\n",
    "    sentence_words = re.sub(r\"\\'ve\", \" have\", sentence_words)\n",
    "    sentence_words = re.sub(r\"\\'re\", \" are\", sentence_words)\n",
    "    sentence_words = re.sub(r\"\\'d\", \" would\", sentence_words)\n",
    "    sentence_words = re.sub(r\"n't\", \" not\", sentence_words)\n",
    "    sentence_words = re.sub(r\"won't\", \"will not\", sentence_words)\n",
    "    sentence_words = re.sub(r\"can't\", \"cannot\", sentence_words)\n",
    "    sentence_words = re.sub(r\"[-()\\\"#/@;:<>{}`+=~|.!?,]\", \"\", sentence_words)\n",
    "    sentence_words = re.sub(r\"\\b-tech\", \"btech\", sentence_words)\n",
    "    sentence_words = re.sub(r\"\\b.tech\", \"btech\", sentence_words)\n",
    "    sentence_words = re.sub(r\"\\mba-tech\", \"mbatech\", sentence_words)\n",
    "    sentence_words = re.sub(r\"\\mba.tech\", \"mbatech\", sentence_words)\n",
    "    sentence_words = re.sub(r\"\\b-tech integrated\", \"btech integrated\", sentence_words)\n",
    "    sentence_words = re.sub(r\"\\b.tech integrated\", \"btech integrated\", sentence_words)\n",
    "    sentence_words = re.sub(r\"\\b.tech int\", \"btech integrated\", sentence_words)\n",
    "    '''\n",
    "    # lemmatize each word\n",
    "    sentence_words = [lemmatizer.lemmatize(word.lower()) for word in sentence_words]\n",
    "    return sentence_words\n",
    "\n",
    "# return bag of words array: 0 or 1 for each word in the bag that exists in the sentence\n",
    "def bow(sentence, words, show_details=False):\n",
    "    # tokenize the pattern\n",
    "    sentence_words = clean_up_sentence(sentence)\n",
    "    # bag of words\n",
    "    bag = [0]*len(words)  \n",
    "    for s in sentence_words:\n",
    "        for i,w in enumerate(words):\n",
    "            if w == s: \n",
    "                bag[i] = 1\n",
    "                if show_details:\n",
    "                    print (\"found in bag: %s\" % w)\n",
    "\n",
    "    return(np.array(bag))"
   ]
  },
  {
   "cell_type": "code",
   "execution_count": 76,
   "metadata": {},
   "outputs": [],
   "source": [
    "# create a data structure to hold user context\n",
    "context = {}\n",
    "\n",
    "ERROR_THRESHOLD = 0.65\n",
    "def classify(sentence):\n",
    "    # generate probabilities from the model\n",
    "    p = bow(sentence, words)\n",
    "    \n",
    "    d = len(p)\n",
    "    f = len(documents)-2\n",
    "    a = np.zeros([f, d])\n",
    "    tot = np.vstack((p,a))\n",
    "    \n",
    "    results = model.predict(tot)[0]\n",
    "    \n",
    "    # filter out predictions below a threshold\n",
    "    results = [[i,r] for i,r in enumerate(results) if r>ERROR_THRESHOLD]\n",
    "    # sort by strength of probability\n",
    "    results.sort(key=lambda x: x[1], reverse=True)\n",
    "    return_list = []\n",
    "    for r in results:\n",
    "        return_list.append((classes[r[0]], r[1]))\n",
    "    # return tuple of intent and probability\n",
    "    return return_list\n",
    "\n",
    "def response(sentence, userID, show_details=False):\n",
    "    results = classify(sentence)\n",
    "    print('Result:',results)\n",
    "    # if we have a classification then find the matching intent tag\n",
    "    if results:\n",
    "        # loop as long as there are matches to process\n",
    "        while results:\n",
    "            for i in intents['intents']:\n",
    "                # find a tag matching the first result\n",
    "                if i['tag'] == results[0][0]:\n",
    "                    # set context for this intent if necessary\n",
    "                    #print(i)\n",
    "                    if 'context_set' in i:\n",
    "                        if show_details: print ('context:', i['context_set'])\n",
    "                        context[userID] = i['context_set']\n",
    "\n",
    "                    # check if this intent is contextual and applies to this user's conversation\n",
    "                    if not 'context_filter' in i or \\\n",
    "                        (userID in context and 'context_filter' in i and i['context_filter'] == context[userID]):\n",
    "                        if show_details: print ('tag:', i['tag'])\n",
    "                        # a random response from the intent\n",
    "                        return (random.choice(i['responses']))\n",
    "            results.pop(0)"
   ]
  },
  {
   "cell_type": "code",
   "execution_count": 77,
   "metadata": {},
   "outputs": [
    {
     "name": "stdout",
     "output_type": "stream",
     "text": [
      "Result: [('greeting', 0.99999976)]\n",
      "context: \n",
      "tag: greeting\n"
     ]
    },
    {
     "data": {
      "text/plain": [
       "'Hello, how can I help you?'"
      ]
     },
     "execution_count": 77,
     "metadata": {},
     "output_type": "execute_result"
    }
   ],
   "source": [
    "response('hi', '123', show_details=True)"
   ]
  },
  {
   "cell_type": "code",
   "execution_count": 78,
   "metadata": {},
   "outputs": [
    {
     "name": "stdout",
     "output_type": "stream",
     "text": [
      "Result: [('accreditation', 0.99999976)]\n",
      "tag: accreditation\n"
     ]
    },
    {
     "data": {
      "text/plain": [
       "'The Programs offered at MPSTME are All India Council for Technical Education(AICTE) Approved. Computer Engineering & Electronics and Telecommunication Programs have been accredited by National Board of Accreditation under Tier â€“ I for two years. (implies international accreditation)'"
      ]
     },
     "execution_count": 78,
     "metadata": {},
     "output_type": "execute_result"
    }
   ],
   "source": [
    "response('accreditations','123',show_details=True)"
   ]
  },
  {
   "cell_type": "code",
   "execution_count": 79,
   "metadata": {},
   "outputs": [
    {
     "name": "stdout",
     "output_type": "stream",
     "text": [
      "Result: [('undergradprograms', 1.0)]\n",
      "tag: undergradprograms\n"
     ]
    },
    {
     "data": {
      "text/plain": [
       "'We provide the following Undergraduate Programs - B. Tech (4 Years after 12th grade), B. Tech Integrated (6 Years after 10th grade)'"
      ]
     },
     "execution_count": 79,
     "metadata": {},
     "output_type": "execute_result"
    }
   ],
   "source": [
    "response('I want to know about the Undergraduate Programs in this college.','123',show_details=True)"
   ]
  },
  {
   "cell_type": "code",
   "execution_count": 80,
   "metadata": {},
   "outputs": [
    {
     "name": "stdout",
     "output_type": "stream",
     "text": [
      "Result: [('streamMechanical', 0.9999989)]\n",
      "tag: streamMechanical\n"
     ]
    },
    {
     "data": {
      "text/plain": [
       "'To be a center of excellence in Mechanical Engineering for education and research to create competent Mechanical Engineering graduates who can be employable in the industries and be part of innovation, research, problem solving and entrepreneurship to help mankind in particular and society in general. We provide Mechanical Engineering Stream in the following courses: B.Tech, B. Tech Integrated, MBA Tech '"
      ]
     },
     "execution_count": 80,
     "metadata": {},
     "output_type": "execute_result"
    }
   ],
   "source": [
    "response('stream Mechanical','123',show_details=True )"
   ]
  },
  {
   "cell_type": "code",
   "execution_count": 81,
   "metadata": {},
   "outputs": [
    {
     "name": "stdout",
     "output_type": "stream",
     "text": [
      "Result: [('generalfeestructure', 0.9999995)]\n",
      "tag: generalfeestructure\n"
     ]
    },
    {
     "data": {
      "text/plain": [
       "'Fee structure for various programs at MPSTME: MBA Tech - 3.3-3.7LPA, BTech - 2.7-3.0LPA, BTech Integrated - 2.7-3.0LPA, PHD - 0.5-0.7LPA, MTech - 1.2LPA, MCA - 1.1LPA, PGDM - 4.9LPA'"
      ]
     },
     "execution_count": 81,
     "metadata": {},
     "output_type": "execute_result"
    }
   ],
   "source": [
    "response('What is the college fees at MPSTME?','123',show_details=True)"
   ]
  },
  {
   "cell_type": "code",
   "execution_count": 82,
   "metadata": {},
   "outputs": [
    {
     "name": "stdout",
     "output_type": "stream",
     "text": [
      "Result: [('CourseB.Tech', 0.99999714)]\n",
      "tag: CourseB.Tech\n"
     ]
    },
    {
     "data": {
      "text/plain": [
       "'Let me help you! We offer 4 year B. Tech Course for 12th+ Students at our Mumbai and Shirpur campuses.We provide B. Tech Degree in the following streams: Electrical (30 Seats), Data Science (60 Seats), - Information Technology (60+60 Seats), Computer Engineering (120+60 Seats, Civil (60 Seats), Electronics and Telecommunication (60+60 Seats), Mechatronics (60+60 Seats), Mechanical (60+60 Seats). *Seats: Mumbai + Shirpur; Minimum 70% in 12th grade required.'"
      ]
     },
     "execution_count": 82,
     "metadata": {},
     "output_type": "execute_result"
    }
   ],
   "source": [
    "response('Tell me about B.Tech course','123',show_details=True)"
   ]
  },
  {
   "cell_type": "code",
   "execution_count": 83,
   "metadata": {},
   "outputs": [
    {
     "name": "stdout",
     "output_type": "stream",
     "text": [
      "Result: [('btechandmbatechadmissions', 0.9997774)]\n",
      "tag: btechandmbatechadmissions\n"
     ]
    },
    {
     "data": {
      "text/plain": [
       "'Engineering aspirants interested for MBA Tech and BTech programs need to appear for NPAT. Admissions will be granted to various courses based on NPAT scores. You may follow the link for more information on NPAT - https://www.nmims.edu/docs/announcement-new-npat-pattern-for-engineering-programs.pdf'"
      ]
     },
     "execution_count": 83,
     "metadata": {},
     "output_type": "execute_result"
    }
   ],
   "source": [
    "response('b.tech admissions', '124',show_details=True )"
   ]
  },
  {
   "cell_type": "code",
   "execution_count": 84,
   "metadata": {},
   "outputs": [
    {
     "name": "stdout",
     "output_type": "stream",
     "text": [
      "Result: [('btechandmbatechadmissions', 0.9999995)]\n",
      "tag: btechandmbatechadmissions\n"
     ]
    },
    {
     "data": {
      "text/plain": [
       "'Engineering aspirants interested for MBA Tech and BTech programs need to appear for NPAT. Admissions will be granted to various courses based on NPAT scores. You may follow the link for more information on NPAT - https://www.nmims.edu/docs/announcement-new-npat-pattern-for-engineering-programs.pdf'"
      ]
     },
     "execution_count": 84,
     "metadata": {},
     "output_type": "execute_result"
    }
   ],
   "source": [
    "response('btech admissions', '124',show_details=True )"
   ]
  },
  {
   "cell_type": "code",
   "execution_count": 85,
   "metadata": {},
   "outputs": [
    {
     "name": "stdout",
     "output_type": "stream",
     "text": [
      "Result: [('btechandmbatechadmissions', 0.9997774)]\n",
      "tag: btechandmbatechadmissions\n"
     ]
    },
    {
     "data": {
      "text/plain": [
       "'Engineering aspirants interested for MBA Tech and BTech programs need to appear for NPAT. Admissions will be granted to various courses based on NPAT scores. You may follow the link for more information on NPAT - https://www.nmims.edu/docs/announcement-new-npat-pattern-for-engineering-programs.pdf'"
      ]
     },
     "execution_count": 85,
     "metadata": {},
     "output_type": "execute_result"
    }
   ],
   "source": [
    "response('B.Tech admissions', '124',show_details=True )"
   ]
  },
  {
   "cell_type": "code",
   "execution_count": 86,
   "metadata": {},
   "outputs": [
    {
     "name": "stdout",
     "output_type": "stream",
     "text": [
      "Result: [('btechandmbatechadmissions', 0.91803247)]\n",
      "tag: btechandmbatechadmissions\n"
     ]
    },
    {
     "data": {
      "text/plain": [
       "'Engineering aspirants interested for MBA Tech and BTech programs need to appear for NPAT. Admissions will be granted to various courses based on NPAT scores. You may follow the link for more information on NPAT - https://www.nmims.edu/docs/announcement-new-npat-pattern-for-engineering-programs.pdf'"
      ]
     },
     "execution_count": 86,
     "metadata": {},
     "output_type": "execute_result"
    }
   ],
   "source": [
    "response('b tech admissions', '124',show_details=True )"
   ]
  },
  {
   "cell_type": "code",
   "execution_count": 87,
   "metadata": {},
   "outputs": [
    {
     "name": "stdout",
     "output_type": "stream",
     "text": [
      "Result: [('btechandmbatechadmissions', 0.9665055)]\n",
      "tag: btechandmbatechadmissions\n"
     ]
    },
    {
     "data": {
      "text/plain": [
       "'Engineering aspirants interested for MBA Tech and BTech programs need to appear for NPAT. Admissions will be granted to various courses based on NPAT scores. You may follow the link for more information on NPAT - https://www.nmims.edu/docs/announcement-new-npat-pattern-for-engineering-programs.pdf'"
      ]
     },
     "execution_count": 87,
     "metadata": {},
     "output_type": "execute_result"
    }
   ],
   "source": [
    "response('B. Tech admissions', '124',show_details=True )"
   ]
  },
  {
   "cell_type": "code",
   "execution_count": 88,
   "metadata": {},
   "outputs": [
    {
     "name": "stdout",
     "output_type": "stream",
     "text": [
      "Result: [('noanswer', 0.9784425)]\n",
      "tag: noanswer\n"
     ]
    },
    {
     "data": {
      "text/plain": [
       "\"Sorry, can't understand you\""
      ]
     },
     "execution_count": 88,
     "metadata": {},
     "output_type": "execute_result"
    }
   ],
   "source": [
    "response('B-tech admissions', '124',show_details=True )"
   ]
  },
  {
   "cell_type": "code",
   "execution_count": 89,
   "metadata": {},
   "outputs": [
    {
     "name": "stdout",
     "output_type": "stream",
     "text": [
      "Result: [('btechandmbatechadmissions', 0.9997774)]\n",
      "tag: btechandmbatechadmissions\n"
     ]
    },
    {
     "data": {
      "text/plain": [
       "'Engineering aspirants interested for MBA Tech and BTech programs need to appear for NPAT. Admissions will be granted to various courses based on NPAT scores. You may follow the link for more information on NPAT - https://www.nmims.edu/docs/announcement-new-npat-pattern-for-engineering-programs.pdf'"
      ]
     },
     "execution_count": 89,
     "metadata": {},
     "output_type": "execute_result"
    }
   ],
   "source": [
    "response('B.Tech admissions', '124',show_details=True )"
   ]
  },
  {
   "cell_type": "code",
   "execution_count": null,
   "metadata": {},
   "outputs": [],
   "source": []
  }
 ],
 "metadata": {
  "kernelspec": {
   "display_name": "Python 3",
   "language": "python",
   "name": "python3"
  },
  "language_info": {
   "codemirror_mode": {
    "name": "ipython",
    "version": 3
   },
   "file_extension": ".py",
   "mimetype": "text/x-python",
   "name": "python",
   "nbconvert_exporter": "python",
   "pygments_lexer": "ipython3",
   "version": "3.5.5"
  }
 },
 "nbformat": 4,
 "nbformat_minor": 2
}
