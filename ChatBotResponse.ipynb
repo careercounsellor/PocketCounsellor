{
 "cells": [
  {
   "cell_type": "code",
   "execution_count": 38,
   "metadata": {},
   "outputs": [
    {
     "name": "stdout",
     "output_type": "stream",
     "text": [
      "[nltk_data] Downloading package punkt to\n",
      "[nltk_data]     C:\\Users\\vivek\\AppData\\Roaming\\nltk_data...\n",
      "[nltk_data]   Package punkt is already up-to-date!\n"
     ]
    }
   ],
   "source": [
    "# things we need for NLP\n",
    "import nltk\n",
    "nltk.download('punkt')\n",
    "from nltk.stem.lancaster import LancasterStemmer\n",
    "stemmer = LancasterStemmer()\n",
    "\n",
    "import numpy as np\n",
    "import random\n",
    "from tensorflow import keras\n",
    "from keras.models import load_model"
   ]
  },
  {
   "cell_type": "code",
   "execution_count": 39,
   "metadata": {},
   "outputs": [],
   "source": [
    "# import our chat-bot intents file\n",
    "import json\n",
    "with open('intents.json') as json_data:\n",
    "    intents = json.load(json_data)"
   ]
  },
  {
   "cell_type": "code",
   "execution_count": 57,
   "metadata": {},
   "outputs": [
    {
     "name": "stdout",
     "output_type": "stream",
     "text": [
      "668 documents\n",
      "49 classes ['CourseB.Tech', 'CourseB.TechInt', 'CourseM.Tech', 'CourseMBATech', 'CourseMCA', 'CoursePGDM', 'CoursePhD', 'accreditation', 'affirmative', 'btechandmbatechadmissions', 'generalfeestructure', 'goodbye', 'greeting', 'hours', 'integratedprograms', 'noanswer', 'offensivewords', 'opentoday', 'otherprogramsadmissions', 'postgradprograms', 'streamCivil', 'streamComputer', 'streamDataScience', 'streamElectrical', 'streamElectronicsandTelecommunications', 'streamIndustrialAutomation', 'streamInformationTechnology', 'streamMechanical', 'streamMechatronics', 'streamartificialintelligence', 'thanks', 'undergradprograms', 'whyArtificialIntelligence', 'whyB.Tech', 'whyB.TechIntegrated', 'whyCS', 'whyCivil', 'whyDataScience', 'whyEXTC', 'whyElectrical', 'whyIT', 'whyIndustrialAutomation', 'whyM.Tech', 'whyMBATech', 'whyMCA', 'whyMechanical', 'whyMechatronics', 'whyPGDM', 'whyPhD']\n",
      "189 unique stemmed words ['!', \"'s\", '.', 'a', 'about', 'acceiv', 'accredit', 'admin', 'admit', 'adv', 'ai', 'aict', 'al', 'alright', 'am', 'an', 'and', 'any', 'anyon', 'approv', 'ar', 'art', 'at', 'autom', 'avail', 'b.', 'b.tech', 'benefit', 'bot', 'btech', 'buby', 'by', 'bye', 'camp', 'can', 'car', 'cert', 'charg', 'choos', 'civil', 'colleg', 'comput', 'confus', 'cool', 'cours', 'cs', 'dat', 'day', 'degr', 'detail', 'diff', 'do', 'doct', 'doe', 'doing', 'ds', 'dual', 'dumb', 'elect', 'electron', 'electronicsandtelecommun', 'engin', 'extc', 'extcengin', 'fee', 'field', 'fin', 'for', 'get', 'giv', 'go', 'good', 'goodby', 'got', 'gradu', 'has', 'hav', 'hello', 'help', 'hey', 'hi', 'hour', 'how', 'i', 'idiot', 'if', 'in', 'ind', 'indust', 'industry', 'info', 'inform', 'int', 'intak', 'integr', 'intellig', 'intern', 'into', 'is', 'it', 'join', 'know', 'lat', 'lost', 'lot', 'm.tech', 'mba', 'mbatech', 'mca', 'me', 'mech', 'mechatron', 'meet', 'mor', 'mpstme', 'mtech', 'much', 'mumba', 'my', 'nic', 'nmim', 'not', 'of', 'off', 'okay', 'op', 'opt', 'pg', 'pgdm', 'phd', 'philosoph', 'post', 'postgrad', 'postgradu', 'prerequisit', 'proc', 'process', 'program', 'pursu', 'qual', 'reason', 'receiv', 'requir', 'sci', 'seat', 'see', 'set', 'shirp', 'should', 'skil', 'so', 'som', 'stream', 'strength', 'structure', 'stupid', 'sup', 'tak', 'tat', 'tech', 'technolog', 'tel', 'telecommun', 'thank', 'that', 'the', 'ther', 'thi', 'tim', 'to', 'today', 'ton', 'tuit', 'ty', 'tysm', 'ug', 'undergrad', 'undergradu', 'up', 'useless', 'want', 'what', 'whatsup', 'when', 'which', 'why', 'ye', 'yo', 'you']\n"
     ]
    }
   ],
   "source": [
    "words = []\n",
    "classes = []\n",
    "documents = []\n",
    "ignore_words = ['?']\n",
    "# loop through each sentence in our intents patterns\n",
    "for intent in intents['intents']:\n",
    "    for pattern in intent['patterns']:\n",
    "        # tokenize each word in the sentence\n",
    "        w = nltk.word_tokenize(pattern)\n",
    "        # add to our words list\n",
    "        words.extend(w)\n",
    "        # add to documents in our corpus\n",
    "        documents.append((w, intent['tag']))\n",
    "        # add to our classes list\n",
    "        if intent['tag'] not in classes:\n",
    "            classes.append(intent['tag'])\n",
    "\n",
    "# stem and lower each word and remove duplicates\n",
    "words = [stemmer.stem(w.lower()) for w in words if w not in ignore_words]\n",
    "words = sorted(list(set(words)))\n",
    "\n",
    "# remove duplicates\n",
    "classes = sorted(list(set(classes)))\n",
    "\n",
    "print (len(documents), \"documents\")\n",
    "print (len(classes), \"classes\", classes)\n",
    "print (len(words), \"unique stemmed words\", words)"
   ]
  },
  {
   "cell_type": "code",
   "execution_count": 58,
   "metadata": {},
   "outputs": [],
   "source": [
    "model = load_model('model_ChatBot.h5')"
   ]
  },
  {
   "cell_type": "code",
   "execution_count": 59,
   "metadata": {},
   "outputs": [],
   "source": [
    "def clean_up_sentence(sentence):\n",
    "    # tokenize the pattern\n",
    "    sentence_words = nltk.word_tokenize(sentence)\n",
    "    # stem each word\n",
    "    sentence_words = [stemmer.stem(word.lower()) for word in sentence_words]\n",
    "    return sentence_words\n",
    "\n",
    "# return bag of words array: 0 or 1 for each word in the bag that exists in the sentence\n",
    "def bow(sentence, words, show_details=False):\n",
    "    # tokenize the pattern\n",
    "    sentence_words = clean_up_sentence(sentence)\n",
    "    # bag of words\n",
    "    bag = [0]*len(words)  \n",
    "    for s in sentence_words:\n",
    "        for i,w in enumerate(words):\n",
    "            if w == s: \n",
    "                bag[i] = 1\n",
    "                if show_details:\n",
    "                    print (\"found in bag: %s\" % w)\n",
    "\n",
    "    return(np.array(bag))"
   ]
  },
  {
   "cell_type": "code",
   "execution_count": 60,
   "metadata": {},
   "outputs": [],
   "source": [
    "# create a data structure to hold user context\n",
    "context = {}\n",
    "\n",
    "ERROR_THRESHOLD = 0.65\n",
    "def classify(sentence):\n",
    "    # generate probabilities from the model\n",
    "    p = bow(sentence, words)\n",
    "    \n",
    "    d = len(p)\n",
    "    f = len(documents)-2\n",
    "    a = np.zeros([f, d])\n",
    "    tot = np.vstack((p,a))\n",
    "    \n",
    "    results = model.predict(tot)[0]\n",
    "    \n",
    "    # filter out predictions below a threshold\n",
    "    results = [[i,r] for i,r in enumerate(results) if r>ERROR_THRESHOLD]\n",
    "    # sort by strength of probability\n",
    "    results.sort(key=lambda x: x[1], reverse=True)\n",
    "    return_list = []\n",
    "    for r in results:\n",
    "        return_list.append((classes[r[0]], r[1]))\n",
    "    # return tuple of intent and probability\n",
    "    return return_list\n",
    "\n",
    "def response(sentence, userID, show_details=False):\n",
    "    results = classify(sentence)\n",
    "    print('Result:',results)\n",
    "    # if we have a classification then find the matching intent tag\n",
    "    if results:\n",
    "        # loop as long as there are matches to process\n",
    "        while results:\n",
    "            for i in intents['intents']:\n",
    "                # find a tag matching the first result\n",
    "                if i['tag'] == results[0][0]:\n",
    "                    # set context for this intent if necessary\n",
    "                    #print(i)\n",
    "                    if 'context_set' in i:\n",
    "                        if show_details: print ('context:', i['context_set'])\n",
    "                        context[userID] = i['context_set']\n",
    "\n",
    "                    # check if this intent is contextual and applies to this user's conversation\n",
    "                    if not 'context_filter' in i or \\\n",
    "                        (userID in context and 'context_filter' in i and i['context_filter'] == context[userID]):\n",
    "                        if show_details: print ('tag:', i['tag'])\n",
    "                        # a random response from the intent\n",
    "                        return (random.choice(i['responses']))\n",
    "            results.pop(0)"
   ]
  },
  {
   "cell_type": "code",
   "execution_count": 61,
   "metadata": {},
   "outputs": [
    {
     "name": "stdout",
     "output_type": "stream",
     "text": [
      "Result: [('greeting', 1.0)]\n",
      "context: \n",
      "tag: greeting\n"
     ]
    },
    {
     "data": {
      "text/plain": [
       "'Hey, how can I help you?'"
      ]
     },
     "execution_count": 61,
     "metadata": {},
     "output_type": "execute_result"
    }
   ],
   "source": [
    "response('hello there', '123', show_details=True)"
   ]
  },
  {
   "cell_type": "code",
   "execution_count": 62,
   "metadata": {},
   "outputs": [
    {
     "name": "stdout",
     "output_type": "stream",
     "text": [
      "Result: [('btechandmbatechadmissions', 0.9999988)]\n",
      "tag: btechandmbatechadmissions\n"
     ]
    },
    {
     "data": {
      "text/plain": [
       "'Engineering aspirants interested for MBA Tech and BTech programs need to appear for NPAT. Admissions will be granted to various courses based on NPAT scores. You may follow the link for more information on NPAT - https://www.nmims.edu/docs/announcement-new-npat-pattern-for-engineering-programs.pdf'"
      ]
     },
     "execution_count": 62,
     "metadata": {},
     "output_type": "execute_result"
    }
   ],
   "source": [
    "response('btech admissions', '123', show_details=True)"
   ]
  },
  {
   "cell_type": "code",
   "execution_count": 63,
   "metadata": {},
   "outputs": [
    {
     "name": "stdout",
     "output_type": "stream",
     "text": [
      "Result: [('CourseB.Tech', 0.9980124)]\n",
      "tag: CourseB.Tech\n"
     ]
    },
    {
     "data": {
      "text/plain": [
       "'Let me help you! We offer 4 year B. Tech Course for 12th+ Students at our Mumbai and Shirpur campuses.We provide B. Tech Degree in the following streams: Electrical (30 Seats), Data Science (60 Seats), - Information Technology (60+60 Seats), Computer Engineering (120+60 Seats, Civil (60 Seats), Electronics and Telecommunication (60+60 Seats), Mechatronics (60+60 Seats), Mechanical (60+60 Seats). *Seats: Mumbai + Shirpur; Minimum 70% in 12th grade required.'"
      ]
     },
     "execution_count": 63,
     "metadata": {},
     "output_type": "execute_result"
    }
   ],
   "source": [
    "response('b.tech admissions', '123', show_details=True)"
   ]
  },
  {
   "cell_type": "code",
   "execution_count": 64,
   "metadata": {},
   "outputs": [
    {
     "name": "stdout",
     "output_type": "stream",
     "text": [
      "Result: [('btechandmbatechadmissions', 0.99879277)]\n",
      "tag: btechandmbatechadmissions\n"
     ]
    },
    {
     "data": {
      "text/plain": [
       "'Engineering aspirants interested for MBA Tech and BTech programs need to appear for NPAT. Admissions will be granted to various courses based on NPAT scores. You may follow the link for more information on NPAT - https://www.nmims.edu/docs/announcement-new-npat-pattern-for-engineering-programs.pdf'"
      ]
     },
     "execution_count": 64,
     "metadata": {},
     "output_type": "execute_result"
    }
   ],
   "source": [
    "response('b tech admissions', '123', show_details=True)"
   ]
  },
  {
   "cell_type": "code",
   "execution_count": 65,
   "metadata": {},
   "outputs": [
    {
     "name": "stdout",
     "output_type": "stream",
     "text": [
      "Result: [('btechandmbatechadmissions', 0.9999988)]\n",
      "tag: btechandmbatechadmissions\n"
     ]
    },
    {
     "data": {
      "text/plain": [
       "'Engineering aspirants interested for MBA Tech and BTech programs need to appear for NPAT. Admissions will be granted to various courses based on NPAT scores. You may follow the link for more information on NPAT - https://www.nmims.edu/docs/announcement-new-npat-pattern-for-engineering-programs.pdf'"
      ]
     },
     "execution_count": 65,
     "metadata": {},
     "output_type": "execute_result"
    }
   ],
   "source": [
    "response('Btech admissions', '123', show_details=True)"
   ]
  },
  {
   "cell_type": "code",
   "execution_count": 66,
   "metadata": {},
   "outputs": [
    {
     "name": "stdout",
     "output_type": "stream",
     "text": [
      "Result: [('CourseB.Tech', 0.9980124)]\n",
      "tag: CourseB.Tech\n"
     ]
    },
    {
     "data": {
      "text/plain": [
       "'Let me help you! We offer 4 year B. Tech Course for 12th+ Students at our Mumbai and Shirpur campuses.We provide B. Tech Degree in the following streams: Electrical (30 Seats), Data Science (60 Seats), - Information Technology (60+60 Seats), Computer Engineering (120+60 Seats, Civil (60 Seats), Electronics and Telecommunication (60+60 Seats), Mechatronics (60+60 Seats), Mechanical (60+60 Seats). *Seats: Mumbai + Shirpur; Minimum 70% in 12th grade required.'"
      ]
     },
     "execution_count": 66,
     "metadata": {},
     "output_type": "execute_result"
    }
   ],
   "source": [
    "response('B.Tech admissions', '123', show_details=True)"
   ]
  },
  {
   "cell_type": "code",
   "execution_count": 67,
   "metadata": {},
   "outputs": [
    {
     "name": "stdout",
     "output_type": "stream",
     "text": [
      "Result: [('btechandmbatechadmissions', 0.99879277)]\n",
      "tag: btechandmbatechadmissions\n"
     ]
    },
    {
     "data": {
      "text/plain": [
       "'Engineering aspirants interested for MBA Tech and BTech programs need to appear for NPAT. Admissions will be granted to various courses based on NPAT scores. You may follow the link for more information on NPAT - https://www.nmims.edu/docs/announcement-new-npat-pattern-for-engineering-programs.pdf'"
      ]
     },
     "execution_count": 67,
     "metadata": {},
     "output_type": "execute_result"
    }
   ],
   "source": [
    "response('B Tech admissions', '123', show_details=True)"
   ]
  },
  {
   "cell_type": "code",
   "execution_count": 68,
   "metadata": {},
   "outputs": [
    {
     "name": "stdout",
     "output_type": "stream",
     "text": [
      "Result: [('otherprogramsadmissions', 0.8465403)]\n",
      "tag: otherprogramsadmissions\n"
     ]
    },
    {
     "data": {
      "text/plain": [
       "'The admission details for this course are updated on our website whenever the admission process begins. Please follow this link to view all ongoing admission processes - https://engineering.nmims.edu/academics/admissions/'"
      ]
     },
     "execution_count": 68,
     "metadata": {},
     "output_type": "execute_result"
    }
   ],
   "source": [
    "response('b-tech admissions', '123', show_details=True)"
   ]
  },
  {
   "cell_type": "code",
   "execution_count": null,
   "metadata": {},
   "outputs": [],
   "source": []
  }
 ],
 "metadata": {
  "kernelspec": {
   "display_name": "Python 3",
   "language": "python",
   "name": "python3"
  },
  "language_info": {
   "codemirror_mode": {
    "name": "ipython",
    "version": 3
   },
   "file_extension": ".py",
   "mimetype": "text/x-python",
   "name": "python",
   "nbconvert_exporter": "python",
   "pygments_lexer": "ipython3",
   "version": "3.5.5"
  }
 },
 "nbformat": 4,
 "nbformat_minor": 2
}
